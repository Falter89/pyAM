{
 "cells": [
  {
   "cell_type": "code",
   "execution_count": 1,
   "metadata": {
    "collapsed": false
   },
   "outputs": [],
   "source": [
    "%matplotlib inline"
   ]
  },
  {
   "cell_type": "code",
   "execution_count": 2,
   "metadata": {
    "collapsed": true
   },
   "outputs": [],
   "source": [
    "import matplotlib.pyplot as plt\n",
    "import numpy as np\n",
    "import seaborn as sn\n",
    "import sympy as sym\n",
    "\n",
    "import pycollocation\n",
    "\n",
    "import inputs\n",
    "import model\n",
    "import problem"
   ]
  },
  {
   "cell_type": "code",
   "execution_count": 3,
   "metadata": {
    "collapsed": false
   },
   "outputs": [],
   "source": [
    "# define some workers skill\n",
    "x, loc1, mu1, sigma1 = sym.var('x, loc1, mu1, sigma1')\n",
    "skill_cdf = 0.5 + 0.5 * sym.erf((sym.log(x - loc1) - mu1) / sym.sqrt(2 * sigma1**2))\n",
    "skill_params = {'loc1': -1.0, 'mu1': 0.0, 'sigma1': 1.0}\n",
    "skill_bounds = [-skill_params['loc1'], 1e2]\n",
    "\n",
    "workers = inputs.Input(var=x,\n",
    "                       cdf=skill_cdf,\n",
    "                       params=skill_params,\n",
    "                       bounds=skill_bounds,\n",
    "                       )\n",
    "\n",
    "# define some firms\n",
    "y, loc2, mu2, sigma2 = sym.var('y, loc2, mu2, sigma2')\n",
    "productivity_cdf = 0.5 + 0.5 * sym.erf((sym.log(y - loc2) - mu2) / sym.sqrt(2 * sigma2**2))\n",
    "productivity_params = {'loc2': -1.0, 'mu2': 0.0, 'sigma2': 1.0}\n",
    "productivity_bounds = [-productivity_params['loc2'], 1e2]\n",
    "\n",
    "firms = inputs.Input(var=y,\n",
    "                     cdf=productivity_cdf,\n",
    "                     params=productivity_params,\n",
    "                     bounds=productivity_bounds,\n",
    "                     )"
   ]
  },
  {
   "cell_type": "code",
   "execution_count": 4,
   "metadata": {
    "collapsed": true
   },
   "outputs": [],
   "source": [
    "# define symbolic expression for CES between x and y\n",
    "omega_A, sigma_A = sym.var('omega_A, sigma_A')\n",
    "A = ((omega_A * x**((sigma_A - 1) / sigma_A) + \n",
    "     (1 - omega_A) * y**((sigma_A - 1) / sigma_A))**(sigma_A / (sigma_A - 1))) \n",
    "\n",
    "# define symbolic expression for CES between x and y\n",
    "r, l, omega_B, sigma_B = sym.var('r, l, omega_B, sigma_B')\n",
    "B = ((omega_B * r**((sigma_B - 1) / sigma_B) + \n",
    "     (1 - omega_B) * l**((sigma_B - 1) / sigma_B))**(sigma_B / (sigma_B - 1))) \n",
    "\n",
    "F = A * B"
   ]
  },
  {
   "cell_type": "code",
   "execution_count": 5,
   "metadata": {
    "collapsed": true
   },
   "outputs": [],
   "source": [
    "# positive assortativity requires that sigma_A * sigma_B < 1\n",
    "F_params = {'omega_A':0.25, 'omega_B':0.5, 'sigma_A':0.5, 'sigma_B':1.0}"
   ]
  },
  {
   "cell_type": "code",
   "execution_count": 6,
   "metadata": {
    "collapsed": false
   },
   "outputs": [],
   "source": [
    "problem = problem.AssortativeMatchingProblem(assortativity='positive',\n",
    "                                             input1=workers,\n",
    "                                             input2=firms,\n",
    "                                             F=sym.limit(F, sigma_B, 1),\n",
    "                                             F_params=F_params)"
   ]
  },
  {
   "cell_type": "code",
   "execution_count": 7,
   "metadata": {
    "collapsed": false
   },
   "outputs": [],
   "source": [
    "solver = pycollocation.OrthogonalPolynomialSolver(problem)"
   ]
  },
  {
   "cell_type": "code",
   "execution_count": 10,
   "metadata": {
    "collapsed": true
   },
   "outputs": [],
   "source": [
    "class InitialGuess(object):\n",
    "    \"\"\"Class for generating initial coefs for basis functions.\"\"\"\n",
    "    \n",
    "    def _initial_mus(self, assortativity, input1, input2, xs, exp):    \n",
    "        \"\"\"\n",
    "        Guess that mu(x) is a linear transform of some power function. Where\n",
    "        the intercept and slope of the linear transform are chosen so that\n",
    "        initial guess satisfies the boundary conditions.\n",
    "\n",
    "        \"\"\"\n",
    "        slope = ((input2.upper - input2.lower) / (input1.upper**exp - input1.lower**exp))\n",
    "        if assortativity == \"positive\":\n",
    "            intercept = input2.lower - slope * input1.lower**exp\n",
    "        elif assortativity == \"negative\":\n",
    "            slope = -slope\n",
    "            intercept = input2.upper - slope * input1.lower**exp\n",
    "        else:\n",
    "            raise ValueError\n",
    "\n",
    "        return intercept + slope * xs**exp\n",
    "    \n",
    "    def _initial_guess_mu(self, xs, mus, deg, domain):\n",
    "        \"\"\"Should call out to basis functions!\"\"\"\n",
    "        return np.polynomial.Chebyshev.fit(xs, mus, deg, domain)\n",
    "    \n",
    "    def _initial_guess_theta(self, xs, thetas, deg, domain):\n",
    "        \"\"\"Should call out to basis functions!\"\"\"\n",
    "        return np.polynomial.Chebyshev.fit(xs, thetas, deg, domain)\n",
    "    \n",
    "    def _initial_thetas(self, assortativity, input1, input2, initial_guess_mu):\n",
    "        \"\"\"Initial guess for theta(x) should be consistent with mu(x) guess.\"\"\"        \n",
    "        H = input1.evaluate_pdf(xs) / input2.evaluate_pdf(initial_guess_mu(xs))\n",
    "        if assortativity == \"positive\":\n",
    "            thetas = (H / initial_guess_mu.deriv()(xs))\n",
    "        elif assortativity == \"negative\":\n",
    "            thetas = -(H / initial_guess_mu.deriv()(xs))\n",
    "        else:\n",
    "            raise ValueError\n",
    "        return thetas\n",
    "\n",
    "    def compute_initial_coefs(self, assortativity, input1, input2, deg, N=1000, exp=1.0):\n",
    "        # get domain values\n",
    "        domain = [input1.lower, input1.upper]\n",
    "        xs = np.linspace(domain[0], domain[1], N)\n",
    "        \n",
    "        # get range values\n",
    "        mus = self._initial_mus(assortativity, input1, input2, xs, exp)\n",
    "        thetas = self._initial_thetas(assortativity, input1, input2, xs, exp)\n",
    "        \n",
    "        # interpolate using basis functions \n",
    "        initial_guess_mu = self._initial_guess_mu(xs, mus, deg, domain)\n",
    "        initial_guess_theta = self._initial_guess_theta(xs, thetas, deg, domain)\n",
    "        \n",
    "        return {'mu': initial_guess_mu.coef, 'theta': initial_guess_theta.coef}"
   ]
  },
  {
   "cell_type": "code",
   "execution_count": 11,
   "metadata": {
    "collapsed": false
   },
   "outputs": [
    {
     "ename": "AttributeError",
     "evalue": "'function' object has no attribute 'deriv'",
     "output_type": "error",
     "traceback": [
      "\u001b[0;31m---------------------------------------------------------------------------\u001b[0m",
      "\u001b[0;31mAttributeError\u001b[0m                            Traceback (most recent call last)",
      "\u001b[0;32m<ipython-input-11-bd5f370f5c4f>\u001b[0m in \u001b[0;36m<module>\u001b[0;34m()\u001b[0m\n\u001b[1;32m      1\u001b[0m \u001b[0minitial_guess\u001b[0m \u001b[0;34m=\u001b[0m \u001b[0mInitialGuess\u001b[0m\u001b[0;34m(\u001b[0m\u001b[0;34m)\u001b[0m\u001b[0;34m\u001b[0m\u001b[0m\n\u001b[0;32m----> 2\u001b[0;31m \u001b[0minitial_coefs\u001b[0m \u001b[0;34m=\u001b[0m \u001b[0minitial_guess\u001b[0m\u001b[0;34m.\u001b[0m\u001b[0mcompute_initial_coefs\u001b[0m\u001b[0;34m(\u001b[0m\u001b[0;34m\"positive\"\u001b[0m\u001b[0;34m,\u001b[0m \u001b[0mworkers\u001b[0m\u001b[0;34m,\u001b[0m \u001b[0mfirms\u001b[0m\u001b[0;34m,\u001b[0m \u001b[0mdeg\u001b[0m\u001b[0;34m=\u001b[0m\u001b[0;36m50\u001b[0m\u001b[0;34m,\u001b[0m \u001b[0mexp\u001b[0m\u001b[0;34m=\u001b[0m\u001b[0;36m0.5\u001b[0m\u001b[0;34m)\u001b[0m\u001b[0;34m\u001b[0m\u001b[0m\n\u001b[0m",
      "\u001b[0;32m<ipython-input-10-044bab4b6ed3>\u001b[0m in \u001b[0;36mcompute_initial_coefs\u001b[0;34m(self, assortativity, input1, input2, deg, N, exp)\u001b[0m\n\u001b[1;32m     47\u001b[0m         \u001b[0;31m# get range values\u001b[0m\u001b[0;34m\u001b[0m\u001b[0;34m\u001b[0m\u001b[0m\n\u001b[1;32m     48\u001b[0m         \u001b[0mmus\u001b[0m \u001b[0;34m=\u001b[0m \u001b[0mself\u001b[0m\u001b[0;34m.\u001b[0m\u001b[0m_initial_mus\u001b[0m\u001b[0;34m(\u001b[0m\u001b[0massortativity\u001b[0m\u001b[0;34m,\u001b[0m \u001b[0minput1\u001b[0m\u001b[0;34m,\u001b[0m \u001b[0minput2\u001b[0m\u001b[0;34m,\u001b[0m \u001b[0mxs\u001b[0m\u001b[0;34m,\u001b[0m \u001b[0mexp\u001b[0m\u001b[0;34m)\u001b[0m\u001b[0;34m\u001b[0m\u001b[0m\n\u001b[0;32m---> 49\u001b[0;31m         \u001b[0mthetas\u001b[0m \u001b[0;34m=\u001b[0m \u001b[0mself\u001b[0m\u001b[0;34m.\u001b[0m\u001b[0m_initial_thetas\u001b[0m\u001b[0;34m(\u001b[0m\u001b[0massortativity\u001b[0m\u001b[0;34m,\u001b[0m \u001b[0minput1\u001b[0m\u001b[0;34m,\u001b[0m \u001b[0minput2\u001b[0m\u001b[0;34m,\u001b[0m \u001b[0mxs\u001b[0m\u001b[0;34m,\u001b[0m \u001b[0mexp\u001b[0m\u001b[0;34m)\u001b[0m\u001b[0;34m\u001b[0m\u001b[0m\n\u001b[0m\u001b[1;32m     50\u001b[0m \u001b[0;34m\u001b[0m\u001b[0m\n\u001b[1;32m     51\u001b[0m         \u001b[0;31m# interpolate using basis functions\u001b[0m\u001b[0;34m\u001b[0m\u001b[0;34m\u001b[0m\u001b[0m\n",
      "\u001b[0;32m<ipython-input-10-044bab4b6ed3>\u001b[0m in \u001b[0;36m_initial_thetas\u001b[0;34m(self, assortativity, input1, input2, xs, exp)\u001b[0m\n\u001b[1;32m     33\u001b[0m         \u001b[0mH\u001b[0m \u001b[0;34m=\u001b[0m \u001b[0minput1\u001b[0m\u001b[0;34m.\u001b[0m\u001b[0mevaluate_pdf\u001b[0m\u001b[0;34m(\u001b[0m\u001b[0mxs\u001b[0m\u001b[0;34m)\u001b[0m \u001b[0;34m/\u001b[0m \u001b[0minput2\u001b[0m\u001b[0;34m.\u001b[0m\u001b[0mevaluate_pdf\u001b[0m\u001b[0;34m(\u001b[0m\u001b[0minitial_mus\u001b[0m\u001b[0;34m)\u001b[0m\u001b[0;34m\u001b[0m\u001b[0m\n\u001b[1;32m     34\u001b[0m         \u001b[0;32mif\u001b[0m \u001b[0massortativity\u001b[0m \u001b[0;34m==\u001b[0m \u001b[0;34m\"positive\"\u001b[0m\u001b[0;34m:\u001b[0m\u001b[0;34m\u001b[0m\u001b[0m\n\u001b[0;32m---> 35\u001b[0;31m             \u001b[0mthetas\u001b[0m \u001b[0;34m=\u001b[0m \u001b[0;34m(\u001b[0m\u001b[0mH\u001b[0m \u001b[0;34m/\u001b[0m \u001b[0mself\u001b[0m\u001b[0;34m.\u001b[0m\u001b[0m_initial_guess_mu\u001b[0m\u001b[0;34m.\u001b[0m\u001b[0mderiv\u001b[0m\u001b[0;34m(\u001b[0m\u001b[0;34m)\u001b[0m\u001b[0;34m(\u001b[0m\u001b[0mxs\u001b[0m\u001b[0;34m)\u001b[0m\u001b[0;34m)\u001b[0m\u001b[0;34m\u001b[0m\u001b[0m\n\u001b[0m\u001b[1;32m     36\u001b[0m         \u001b[0;32melif\u001b[0m \u001b[0massortativity\u001b[0m \u001b[0;34m==\u001b[0m \u001b[0;34m\"negative\"\u001b[0m\u001b[0;34m:\u001b[0m\u001b[0;34m\u001b[0m\u001b[0m\n\u001b[1;32m     37\u001b[0m             \u001b[0mthetas\u001b[0m \u001b[0;34m=\u001b[0m \u001b[0;34m-\u001b[0m\u001b[0;34m(\u001b[0m\u001b[0mH\u001b[0m \u001b[0;34m/\u001b[0m \u001b[0mself\u001b[0m\u001b[0;34m.\u001b[0m\u001b[0m_initial_guess_mu\u001b[0m\u001b[0;34m.\u001b[0m\u001b[0mderiv\u001b[0m\u001b[0;34m(\u001b[0m\u001b[0;34m)\u001b[0m\u001b[0;34m(\u001b[0m\u001b[0mxs\u001b[0m\u001b[0;34m)\u001b[0m\u001b[0;34m)\u001b[0m\u001b[0;34m\u001b[0m\u001b[0m\n",
      "\u001b[0;31mAttributeError\u001b[0m: 'function' object has no attribute 'deriv'"
     ]
    }
   ],
   "source": [
    "initial_guess = InitialGuess()\n",
    "initial_coefs = initial_guess.compute_initial_coefs(\"positive\", workers, firms, deg=50, exp=0.5)"
   ]
  },
  {
   "cell_type": "code",
   "execution_count": null,
   "metadata": {
    "collapsed": false
   },
   "outputs": [],
   "source": [
    "# quickly plot the initial conditions\n",
    "plt.plot(xs, initial_coefs['mu'](xs))\n",
    "plt.plot(xs, initial_coefs['theta'](xs))\n",
    "plt.grid('on')"
   ]
  },
  {
   "cell_type": "code",
   "execution_count": null,
   "metadata": {
    "collapsed": false
   },
   "outputs": [],
   "source": [
    "solver.solve(kind=\"Chebyshev\",\n",
    "             coefs_dict=initial_coefs,\n",
    "             domain=domain,\n",
    "             method='hybr')"
   ]
  },
  {
   "cell_type": "code",
   "execution_count": null,
   "metadata": {
    "collapsed": false
   },
   "outputs": [],
   "source": [
    "solver.result.success"
   ]
  },
  {
   "cell_type": "code",
   "execution_count": null,
   "metadata": {
    "collapsed": true
   },
   "outputs": [],
   "source": [
    "viz = pycollocation.Visualizer(solver)"
   ]
  },
  {
   "cell_type": "code",
   "execution_count": null,
   "metadata": {
    "collapsed": false
   },
   "outputs": [],
   "source": [
    "viz.interpolation_knots = np.linspace(domain[0], domain[1], 1000)\n",
    "viz.residuals.plot()\n",
    "plt.show()"
   ]
  },
  {
   "cell_type": "code",
   "execution_count": null,
   "metadata": {
    "collapsed": false
   },
   "outputs": [],
   "source": [
    "viz.normalized_residuals.plot(logy=True)\n",
    "plt.show()"
   ]
  },
  {
   "cell_type": "code",
   "execution_count": null,
   "metadata": {
    "collapsed": false
   },
   "outputs": [],
   "source": [
    "viz.solution.plot(subplots=True)\n",
    "plt.show()"
   ]
  },
  {
   "cell_type": "markdown",
   "metadata": {},
   "source": [
    "This is supposed to be the density for firms, but obviously not!"
   ]
  },
  {
   "cell_type": "code",
   "execution_count": null,
   "metadata": {
    "collapsed": false
   },
   "outputs": [],
   "source": [
    "(viz.solution.theta / workers.evaluate_pdf(viz.solution.index.values)).plot(logy=True)\n",
    "plt.show()"
   ]
  },
  {
   "cell_type": "code",
   "execution_count": null,
   "metadata": {
    "collapsed": false
   },
   "outputs": [],
   "source": [
    "solver._coefs_array_to_dict(solver.result.x, solver._degrees)"
   ]
  },
  {
   "cell_type": "code",
   "execution_count": null,
   "metadata": {
    "collapsed": true
   },
   "outputs": [],
   "source": []
  }
 ],
 "metadata": {
  "kernelspec": {
   "display_name": "Python 2",
   "language": "python",
   "name": "python2"
  },
  "language_info": {
   "codemirror_mode": {
    "name": "ipython",
    "version": 2
   },
   "file_extension": ".py",
   "mimetype": "text/x-python",
   "name": "python",
   "nbconvert_exporter": "python",
   "pygments_lexer": "ipython2",
   "version": "2.7.10"
  }
 },
 "nbformat": 4,
 "nbformat_minor": 0
}
