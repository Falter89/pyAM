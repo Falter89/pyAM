{
 "cells": [
  {
   "cell_type": "code",
   "execution_count": 126,
   "metadata": {
    "collapsed": false
   },
   "outputs": [],
   "source": [
    "%matplotlib inline"
   ]
  },
  {
   "cell_type": "code",
   "execution_count": 127,
   "metadata": {
    "collapsed": true
   },
   "outputs": [],
   "source": [
    "import matplotlib.pyplot as plt\n",
    "import numpy as np\n",
    "import seaborn as sn\n",
    "import sympy as sym\n",
    "\n",
    "import pycollocation\n",
    "import pyam"
   ]
  },
  {
   "cell_type": "markdown",
   "metadata": {},
   "source": [
    "## Defining inputs\n",
    "\n",
    "Need to define some heterogenous factors of production..."
   ]
  },
  {
   "cell_type": "code",
   "execution_count": 128,
   "metadata": {
    "collapsed": false
   },
   "outputs": [],
   "source": [
    "# define some workers skill\n",
    "x, loc1, mu1, sigma1 = sym.var('x, loc1, mu1, sigma1')\n",
    "skill_cdf = 0.5 + 0.5 * sym.erf((sym.log(x - loc1) - mu1) / sym.sqrt(2 * sigma1**2))\n",
    "skill_params = {'loc1': -1e-1, 'mu1': 0.0, 'sigma1': 1.0}\n",
    "skill_bounds = [-skill_params['loc1'], 1e2]\n",
    "\n",
    "workers = pyam.Input(var=x,\n",
    "                     cdf=skill_cdf,\n",
    "                     params=skill_params,\n",
    "                     bounds=skill_bounds,\n",
    "                     )\n",
    "\n",
    "# define some firms\n",
    "y, loc2, mu2, sigma2 = sym.var('y, loc2, mu2, sigma2')\n",
    "productivity_cdf = 0.5 + 0.5 * sym.erf((sym.log(y - loc2) - mu2) / sym.sqrt(2 * sigma2**2))\n",
    "productivity_params = {'loc2': -1e-1, 'mu2': 0.0, 'sigma2': 1.0}\n",
    "productivity_bounds = [-productivity_params['loc2'], 1e2]\n",
    "\n",
    "firms = pyam.Input(var=y,\n",
    "                   cdf=productivity_cdf,\n",
    "                   params=productivity_params,\n",
    "                   bounds=productivity_bounds,\n",
    "                   )"
   ]
  },
  {
   "cell_type": "markdown",
   "metadata": {},
   "source": [
    "## Defining a production process\n",
    "\n",
    "Next need to define some production process..."
   ]
  },
  {
   "cell_type": "code",
   "execution_count": 129,
   "metadata": {
    "collapsed": true
   },
   "outputs": [],
   "source": [
    "# define symbolic expression for CES between x and y\n",
    "omega_A, sigma_A = sym.var('omega_A, sigma_A')\n",
    "A = ((omega_A * x**((sigma_A - 1) / sigma_A) + \n",
    "     (1 - omega_A) * y**((sigma_A - 1) / sigma_A))**(sigma_A / (sigma_A - 1))) \n",
    "\n",
    "# define symbolic expression for CES between x and y\n",
    "r, l, omega_B, sigma_B = sym.var('r, l, omega_B, sigma_B')\n",
    "B = ((omega_B * r**((sigma_B - 1) / sigma_B) + \n",
    "     (1 - omega_B) * l**((sigma_B - 1) / sigma_B))**(sigma_B / (sigma_B - 1))) \n",
    "\n",
    "F = A * B"
   ]
  },
  {
   "cell_type": "code",
   "execution_count": 130,
   "metadata": {
    "collapsed": true
   },
   "outputs": [],
   "source": [
    "# positive assortativity requires that sigma_A * sigma_B < 1\n",
    "F_params = {'omega_A':0.25, 'omega_B':0.5, 'sigma_A':0.5, 'sigma_B':1.0}"
   ]
  },
  {
   "cell_type": "markdown",
   "metadata": {},
   "source": [
    "## Define a boundary value problem"
   ]
  },
  {
   "cell_type": "code",
   "execution_count": 131,
   "metadata": {
    "collapsed": false
   },
   "outputs": [],
   "source": [
    "problem = pyam.AssortativeMatchingProblem(assortativity='positive',\n",
    "                                          input1=workers,\n",
    "                                          input2=firms,\n",
    "                                          F=sym.limit(F, sigma_B, 1),\n",
    "                                          F_params=F_params)"
   ]
  },
  {
   "cell_type": "markdown",
   "metadata": {},
   "source": [
    "## Pick some collocation solver"
   ]
  },
  {
   "cell_type": "code",
   "execution_count": 132,
   "metadata": {
    "collapsed": true
   },
   "outputs": [],
   "source": [
    "solver = pycollocation.OrthogonalPolynomialSolver(problem)"
   ]
  },
  {
   "cell_type": "markdown",
   "metadata": {},
   "source": [
    "## Compute some decent initial guess"
   ]
  },
  {
   "cell_type": "code",
   "execution_count": 133,
   "metadata": {
    "collapsed": false
   },
   "outputs": [],
   "source": [
    "initial_guess = pyam.OrthogonalPolynomialInitialGuess(solver)\n",
    "initial_polys = initial_guess.compute_initial_guess(\"Chebyshev\",\n",
    "                                                    degrees={'mu': 175, 'theta': 175},\n",
    "                                                    exp=0.5)"
   ]
  },
  {
   "cell_type": "code",
   "execution_count": 134,
   "metadata": {
    "collapsed": false
   },
   "outputs": [
    {
     "data": {
      "image/png": "[encoded data removed]",
      "text/plain": [
       "<matplotlib.figure.Figure at 0x10c27d950>"
      ]
     },
     "metadata": {},
     "output_type": "display_data"
    }
   ],
   "source": [
    "# quickly plot the initial conditions\n",
    "xs = np.linspace(workers.lower, workers.upper, 1000)\n",
    "plt.plot(xs, initial_polys['mu'](xs))\n",
    "plt.plot(xs, initial_polys['theta'](xs))\n",
    "plt.grid('on')"
   ]
  },
  {
   "cell_type": "markdown",
   "metadata": {},
   "source": [
    "## Solve the model!"
   ]
  },
  {
   "cell_type": "code",
   "execution_count": 135,
   "metadata": {
    "collapsed": false
   },
   "outputs": [],
   "source": [
    "domain = [workers.lower, workers.upper]\n",
    "initial_coefs = {'mu': initial_polys['mu'].coef,\n",
    "                 'theta': initial_polys['theta'].coef}\n",
    "\n",
    "solver.solve(kind=\"Chebyshev\",\n",
    "             coefs_dict=initial_coefs,\n",
    "             domain=domain,\n",
    "             method='hybr')"
   ]
  },
  {
   "cell_type": "code",
   "execution_count": 136,
   "metadata": {
    "collapsed": false
   },
   "outputs": [
    {
     "data": {
      "text/plain": [
       "True"
      ]
     },
     "execution_count": 136,
     "metadata": {},
     "output_type": "execute_result"
    }
   ],
   "source": [
    "solver.result.success"
   ]
  },
  {
   "cell_type": "markdown",
   "metadata": {},
   "source": [
    "## Plot some results"
   ]
  },
  {
   "cell_type": "code",
   "execution_count": 137,
   "metadata": {
    "collapsed": true
   },
   "outputs": [],
   "source": [
    "viz = pycollocation.Visualizer(solver)"
   ]
  },
  {
   "cell_type": "code",
   "execution_count": 138,
   "metadata": {
    "collapsed": true
   },
   "outputs": [],
   "source": [
    "np.logspace?"
   ]
  },
  {
   "cell_type": "code",
   "execution_count": 139,
   "metadata": {
    "collapsed": false
   },
   "outputs": [
    {
     "data": {
      "text/plain": [
       "[0.1, 100.0]"
      ]
     },
     "execution_count": 139,
     "metadata": {},
     "output_type": "execute_result"
    }
   ],
   "source": [
    "domain"
   ]
  },
  {
   "cell_type": "code",
   "execution_count": 140,
   "metadata": {
    "collapsed": false
   },
   "outputs": [
    {
     "data": {
      "image/png": "[encoded data removed]",
      "text/plain": [
       "<matplotlib.figure.Figure at 0x10ac4fad0>"
      ]
     },
     "metadata": {},
     "output_type": "display_data"
    }
   ],
   "source": [
    "viz.interpolation_knots = np.logspace(-1, 2, 1000)\n",
    "viz.residuals.plot()\n",
    "plt.show()"
   ]
  },
  {
   "cell_type": "code",
   "execution_count": 141,
   "metadata": {
    "collapsed": false
   },
   "outputs": [
    {
     "data": {
      "image/png": "[encoded data removed]",
      "text/plain": [
       "<matplotlib.figure.Figure at 0x10a8d6710>"
      ]
     },
     "metadata": {},
     "output_type": "display_data"
    }
   ],
   "source": [
    "viz.normalized_residuals.plot(logy=True)\n",
    "plt.show()"
   ]
  },
  {
   "cell_type": "code",
   "execution_count": 142,
   "metadata": {
    "collapsed": false
   },
   "outputs": [
    {
     "data": {
      "image/png": "[encoded data removed]",
      "text/plain": [
       "<matplotlib.figure.Figure at 0x10b04db50>"
      ]
     },
     "metadata": {},
     "output_type": "display_data"
    }
   ],
   "source": [
    "viz.solution.plot(subplots=True)\n",
    "plt.show()"
   ]
  },
  {
   "cell_type": "markdown",
   "metadata": {},
   "source": [
    "## Plot the density for firm size\n",
    "\n",
    "Here I make use of Philipp's trick..."
   ]
  },
  {
   "cell_type": "code",
   "execution_count": 149,
   "metadata": {
    "collapsed": false
   },
   "outputs": [
    {
     "data": {
      "image/png": "[encoded data removed]",
      "text/plain": [
       "<matplotlib.figure.Figure at 0x10c190f50>"
      ]
     },
     "metadata": {},
     "output_type": "display_data"
    }
   ],
   "source": [
    "(viz.solution.theta * workers.evaluate_pdf(viz.solution.index.values)).plot(logx=True)\n",
    "plt.show()"
   ]
  },
  {
   "cell_type": "code",
   "execution_count": 144,
   "metadata": {
    "collapsed": false
   },
   "outputs": [
    {
     "data": {
      "text/plain": [
       "{'mu': array([  6.23814274e+01,   5.04851144e+01,  -1.32471710e+01,\n",
       "         -6.19520521e-01,   1.09040898e+00,   3.85662679e-02,\n",
       "         -1.51387920e-01,   6.19887197e-03,   1.96110606e-02,\n",
       "          4.50214830e-04,  -5.82345003e-03,   3.01685344e-03,\n",
       "         -1.92861952e-03,   2.25744250e-03,  -2.39264226e-03,\n",
       "          2.27447025e-03,  -2.16808054e-03,   2.10353603e-03,\n",
       "         -2.03939834e-03,   1.96860200e-03,  -1.89836700e-03,\n",
       "          1.83081842e-03,  -1.76513815e-03,   1.70109527e-03,\n",
       "         -1.63894177e-03,   1.57880871e-03,  -1.52069653e-03,\n",
       "          1.46459023e-03,  -1.41047608e-03,   1.35832782e-03,\n",
       "         -1.30810682e-03,   1.25976758e-03,  -1.21326050e-03,\n",
       "          1.16853283e-03,  -1.12552969e-03,   1.08419498e-03,\n",
       "         -1.04447213e-03,   1.00630465e-03,  -9.69636499e-04,\n",
       "          9.34412392e-04,  -9.00578081e-04,   8.68080509e-04,\n",
       "         -8.36867952e-04,   8.06890115e-04,  -7.78098198e-04,\n",
       "          7.50444938e-04,  -7.23884632e-04,   6.98373148e-04,\n",
       "         -6.73867916e-04,   6.50327917e-04,  -6.27713660e-04,\n",
       "          6.05987158e-04,  -5.85111889e-04,   5.65052767e-04,\n",
       "         -5.45776099e-04,   5.27249549e-04,  -5.09442092e-04,\n",
       "          4.92323974e-04,  -4.75866669e-04,   4.60042840e-04,\n",
       "         -4.44826287e-04,   4.30191916e-04,  -4.16115690e-04,\n",
       "          4.02574592e-04,  -3.89546585e-04,   3.77010571e-04,\n",
       "         -3.64946355e-04,   3.53334610e-04,  -3.42156837e-04,\n",
       "          3.31395335e-04,  -3.21033165e-04,   3.11054120e-04,\n",
       "         -3.01442689e-04,   2.92184036e-04,  -2.83263963e-04,\n",
       "          2.74668884e-04,  -2.66385804e-04,   2.58402286e-04,\n",
       "         -2.50706431e-04,   2.43286853e-04,  -2.36132655e-04,\n",
       "          2.29233412e-04,  -2.22579146e-04,   2.16160307e-04,\n",
       "         -2.09967755e-04,   2.03992741e-04,  -1.98226890e-04,\n",
       "          1.92662185e-04,  -1.87290950e-04,   1.82105835e-04,\n",
       "         -1.77099802e-04,   1.72266111e-04,  -1.67598306e-04,\n",
       "          1.63090205e-04,  -1.58735884e-04,   1.54529667e-04,\n",
       "         -1.50466118e-04,   1.46540025e-04,  -1.42746396e-04,\n",
       "          1.39080443e-04,  -1.35537579e-04,   1.32113406e-04,\n",
       "         -1.28803706e-04,   1.25604435e-04,  -1.22511716e-04,\n",
       "          1.19521830e-04,  -1.16631209e-04,   1.13836433e-04,\n",
       "         -1.11134217e-04,   1.08521414e-04,  -1.05995000e-04,\n",
       "          1.03552078e-04,  -1.01189866e-04,   9.89056928e-05,\n",
       "         -9.66969981e-05,   9.45613235e-05,  -9.24963106e-05,\n",
       "          9.04996962e-05,  -8.85693090e-05,   8.67030663e-05,\n",
       "         -8.48989700e-05,   8.31551044e-05,  -8.14696323e-05,\n",
       "          7.98407932e-05,  -7.82669000e-05,   7.67463368e-05,\n",
       "         -7.52775571e-05,   7.38590809e-05,  -7.24894934e-05,\n",
       "          7.11674431e-05,  -6.98916398e-05,   6.86608538e-05,\n",
       "         -6.74739139e-05,   6.63297067e-05,  -6.52271752e-05,\n",
       "          6.41653183e-05,  -6.31431894e-05,   6.21598967e-05,\n",
       "         -6.12146016e-05,   6.03065194e-05,  -5.94349182e-05,\n",
       "          5.85991194e-05,  -5.77984973e-05,   5.70324797e-05,\n",
       "         -5.63005477e-05,   5.56022362e-05,  -5.49371349e-05,\n",
       "          5.43048882e-05,  -5.37051965e-05,   5.31378172e-05,\n",
       "         -5.26025653e-05,   5.20993157e-05,  -5.16280038e-05,\n",
       "          5.11886287e-05,  -5.07812550e-05,   5.04060172e-05,\n",
       "         -5.00631245e-05,   4.97528672e-05,  -4.94756249e-05,\n",
       "          4.92318836e-05,  -4.90222661e-05,   4.88475534e-05,\n",
       "         -4.87086800e-05,   4.86068493e-05,  -4.85439632e-05,\n",
       "          4.85227264e-05,  -4.85453037e-05,   4.86138442e-05,\n",
       "         -4.87406842e-05,   4.89540892e-05,  -4.92545865e-05,\n",
       "          4.95913876e-05,  -5.01533926e-05,   5.17463478e-05,\n",
       "         -5.46116989e-05,   2.80559364e-05]),\n",
       " 'theta': array([  6.61498826e+00,   3.09404524e+00,  -2.01213445e+00,\n",
       "          4.97148343e-01,  -1.22193277e-01,   1.26100073e-01,\n",
       "         -1.05854859e-01,   6.74726971e-02,  -4.64551041e-02,\n",
       "          3.70284267e-02,  -3.02257648e-02,   2.46030352e-02,\n",
       "         -2.04709963e-02,   1.74784913e-02,  -1.51751854e-02,\n",
       "          1.33429244e-02,  -1.18755729e-02,   1.06872917e-02,\n",
       "         -9.70870541e-03,   8.89091570e-03,  -8.19929473e-03,\n",
       "          7.60771600e-03,  -7.09608439e-03,   6.64899634e-03,\n",
       "         -6.25456015e-03,   5.90347121e-03,  -5.58837765e-03,\n",
       "          5.30343074e-03,  -5.04394496e-03,   4.80613955e-03,\n",
       "         -4.58694322e-03,   4.38384544e-03,  -4.19478166e-03,\n",
       "          4.01804399e-03,  -3.85221140e-03,   3.69609471e-03,\n",
       "         -3.54869313e-03,   3.40915953e-03,  -3.27677280e-03,\n",
       "          3.15091545e-03,  -3.03105568e-03,   2.91673274e-03,\n",
       "         -2.80754508e-03,   2.70314058e-03,  -2.60320866e-03,\n",
       "          2.50747367e-03,  -2.41568955e-03,   2.32763532e-03,\n",
       "         -2.24311139e-03,   2.16193649e-03,  -2.08394510e-03,\n",
       "          2.00898530e-03,  -1.93691696e-03,   1.86761025e-03,\n",
       "         -1.80094436e-03,   1.73680642e-03,  -1.67509061e-03,\n",
       "          1.61569738e-03,  -1.55853277e-03,   1.50350792e-03,\n",
       "         -1.45053851e-03,   1.39954440e-03,  -1.35044926e-03,\n",
       "          1.30318028e-03,  -1.25766787e-03,   1.21384547e-03,\n",
       "         -1.17164931e-03,   1.13101826e-03,  -1.09189367e-03,\n",
       "          1.05421919e-03,  -1.01794070e-03,   9.83006156e-04,\n",
       "         -9.49365521e-04,   9.16970638e-04,  -8.85775168e-04,\n",
       "          8.55734501e-04,  -8.26805691e-04,   7.98947385e-04,\n",
       "         -7.72119759e-04,   7.46284462e-04,  -7.21404560e-04,\n",
       "          6.97444481e-04,  -6.74369969e-04,   6.52148034e-04,\n",
       "         -6.30746908e-04,   6.10136001e-04,  -5.90285861e-04,\n",
       "          5.71168132e-04,  -5.52755520e-04,   5.35021748e-04,\n",
       "         -5.17941531e-04,   5.01490533e-04,  -4.85645338e-04,\n",
       "          4.70383418e-04,  -4.55683100e-04,   4.41523538e-04,\n",
       "         -4.27884685e-04,   4.14747261e-04,  -4.02092729e-04,\n",
       "          3.89903269e-04,  -3.78161752e-04,   3.66851714e-04,\n",
       "         -3.55957337e-04,   3.45463418e-04,  -3.35355356e-04,\n",
       "          3.25619125e-04,  -3.16241254e-04,   3.07208810e-04,\n",
       "         -2.98509374e-04,   2.90131028e-04,  -2.82062331e-04,\n",
       "          2.74292308e-04,  -2.66810430e-04,   2.59606596e-04,\n",
       "         -2.52671122e-04,   2.45994723e-04,  -2.39568502e-04,\n",
       "          2.33383931e-04,  -2.27432841e-04,   2.21707411e-04,\n",
       "         -2.16200152e-04,   2.10903896e-04,  -2.05811787e-04,\n",
       "          2.00917265e-04,  -1.96214063e-04,   1.91696189e-04,\n",
       "         -1.87357919e-04,   1.83193790e-04,  -1.79198587e-04,\n",
       "          1.75367334e-04,  -1.71695288e-04,   1.68177928e-04,\n",
       "         -1.64810948e-04,   1.61590246e-04,  -1.58511917e-04,\n",
       "          1.55572248e-04,  -1.52767704e-04,   1.50094922e-04,\n",
       "         -1.47550705e-04,   1.45132009e-04,  -1.42835936e-04,\n",
       "          1.40659725e-04,  -1.38600741e-04,   1.36656466e-04,\n",
       "         -1.34824484e-04,   1.33102477e-04,  -1.31488202e-04,\n",
       "          1.29979484e-04,  -1.28574201e-04,   1.27270262e-04,\n",
       "         -1.26065594e-04,   1.24958117e-04,  -1.23945726e-04,\n",
       "          1.23026262e-04,  -1.22197487e-04,   1.21457050e-04,\n",
       "         -1.20802454e-04,   1.20231014e-04,  -1.19739819e-04,\n",
       "          1.19325673e-04,  -1.18985048e-04,   1.18714021e-04,\n",
       "         -1.18508200e-04,   1.18362652e-04,  -1.18271797e-04,\n",
       "          1.18229347e-04,  -1.18228252e-04,   1.18260507e-04,\n",
       "         -1.18316753e-04,   1.18386654e-04,  -1.18460436e-04,\n",
       "          1.18526919e-04,  -1.18567569e-04,   1.18574062e-04,\n",
       "         -1.18564534e-04,   5.91103408e-05])}"
      ]
     },
     "execution_count": 144,
     "metadata": {},
     "output_type": "execute_result"
    }
   ],
   "source": []
  },
  {
   "cell_type": "code",
   "execution_count": 145,
   "metadata": {
    "collapsed": false
   },
   "outputs": [
    {
     "data": {
      "text/plain": [
       "OrderedDict([('loc1', -0.1), ('loc2', -0.1), ('mu1', 0.0), ('mu2', 0.0), ('omega_A', 0.25), ('omega_B', 0.5), ('sigma1', 1.0), ('sigma2', 1.0), ('sigma_A', 0.5), ('sigma_B', 1.0)])"
      ]
     },
     "execution_count": 145,
     "metadata": {},
     "output_type": "execute_result"
    }
   ],
   "source": []
  },
  {
   "cell_type": "code",
   "execution_count": 146,
   "metadata": {
    "collapsed": true
   },
   "outputs": [],
   "source": []
  },
  {
   "cell_type": "code",
   "execution_count": 147,
   "metadata": {
    "collapsed": false
   },
   "outputs": [
    {
     "data": {
      "text/plain": [
       "OrderedDict([('loc1', -0.1), ('loc2', -0.1), ('mu1', 0.0), ('mu2', 0.0), ('omega_A', 0.25), ('omega_B', 0.5), ('sigma1', 0.5), ('sigma2', 1.0), ('sigma_A', 0.5), ('sigma_B', 1.0)])"
      ]
     },
     "execution_count": 147,
     "metadata": {},
     "output_type": "execute_result"
    }
   ],
   "source": []
  },
  {
   "cell_type": "code",
   "execution_count": null,
   "metadata": {
    "collapsed": true
   },
   "outputs": [],
   "source": []
  }
 ],
 "metadata": {
  "kernelspec": {
   "display_name": "Python 2",
   "language": "python",
   "name": "python2"
  },
  "language_info": {
   "codemirror_mode": {
    "name": "ipython",
    "version": 2
   },
   "file_extension": ".py",
   "mimetype": "text/x-python",
   "name": "python",
   "nbconvert_exporter": "python",
   "pygments_lexer": "ipython2",
   "version": "2.7.10"
  }
 },
 "nbformat": 4,
 "nbformat_minor": 0
}
